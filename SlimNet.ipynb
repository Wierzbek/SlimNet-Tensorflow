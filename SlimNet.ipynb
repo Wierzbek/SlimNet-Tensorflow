{
 "cells": [
  {
   "cell_type": "code",
   "execution_count": null,
   "metadata": {},
   "outputs": [],
   "source": [
    "import tensorflow as tf\n",
    "from tensorflow.keras.models import Model\n",
    "from tensorflow.keras.models import Sequential\n",
    "from tensorflow.keras.layers import BatchNormalization\n",
    "from tensorflow.keras.layers import AveragePooling2D\n",
    "from tensorflow.keras.layers import MaxPool2D\n",
    "from tensorflow.keras.layers import Conv2D\n",
    "from tensorflow.keras.layers import Activation\n",
    "from tensorflow.keras.layers import Input\n",
    "from tensorflow.keras.layers import Dense\n",
    "from tensorflow.keras.layers import concatenate\n",
    "from tensorflow.keras.layers import SeparableConv1D\n",
    "from tensorflow.keras.layers import Add"
   ]
  },
  {
   "cell_type": "code",
   "execution_count": null,
   "metadata": {},
   "outputs": [],
   "source": [
    "inputs = keras.Input(shape=(784,), name=\"digits\")\n",
    "x = layers.Dense(64, activation=\"relu\", name=\"dense_1\")(inputs)\n",
    "x = layers.Dense(64, activation=\"relu\", name=\"dense_2\")(x)\n",
    "outputs = layers.Dense(10, activation=\"softmax\", name=\"predictions\")(x)\n",
    "\n",
    "model = keras.Model(inputs=inputs, outputs=outputs)"
   ]
  },
  {
   "cell_type": "markdown",
   "metadata": {},
   "source": [
    "# Convolution with Batch Norm & ReLU"
   ]
  },
  {
   "cell_type": "code",
   "execution_count": 2,
   "metadata": {},
   "outputs": [],
   "source": [
    "inputs = tf.keras.Input(shape=784,) name=\"digits\")\n",
    "\n",
    "def convolution_BNReLU(filters, kernel_size, strides = 1):\n",
    "    ConvBNReLU = Sequential()\n",
    "    \n",
    "    # Conv2D \n",
    "    ConvBNReLU.add(Conv2D(filters, kernel_size, strides, padding='valid'))\n",
    "    # Batch Normalization\n",
    "    ConvBNReLU.add(BatchNormalization())\n",
    "    # Activation Function\n",
    "    ConvBNReLU.add(Activation(\"relu\"))            \n",
    "    \n",
    "    return ConvBNReLU  "
   ]
  },
  {
   "cell_type": "markdown",
   "metadata": {},
   "source": [
    "# Depthwise Separable Convolution"
   ]
  },
  {
   "cell_type": "code",
   "execution_count": 3,
   "metadata": {},
   "outputs": [],
   "source": [
    "def depthwise_separable(filters, kernel_size, strides = 1):\n",
    "    DWSeparableConv = Sequential()\n",
    "    \n",
    "    # Depthwise Convolution 3x3\n",
    "    DWSeparableConv.add(DepthwiseConv1D(filters, kernel_size, strides, padding='valid'))\n",
    "    # Batch Normalization\n",
    "    DWSeparableConv.add(BatchNormalization())\n",
    "    # Activation Function\n",
    "    DWSeparableConv.add(Activation(\"relu\"))            \n",
    "    \n",
    "    return DWSeparableConv  "
   ]
  },
  {
   "cell_type": "markdown",
   "metadata": {},
   "source": [
    "# Separable Squeeze-Expand Block"
   ]
  },
  {
   "cell_type": "code",
   "execution_count": 4,
   "metadata": {
    "scrolled": true
   },
   "outputs": [],
   "source": [
    "def SSE_Block(squeeze, expand):\n",
    "    # Squeeze Layer - pointwise\n",
    "    pointwise1 = convolution_BNReLU(squeeze, 1)\n",
    "    \n",
    "    # Expand Layer - pointwise followed by depthwise\n",
    "    pointwise2 = convolution_BNReLU(expand, 1)\n",
    "    depthwise = convolution_BNReLU(expand, 3)            \n",
    "\n",
    "    #Left side of SSE: pointwise to pointwise\n",
    "    left = Sequential()\n",
    "    left.add(pointwise1)\n",
    "    left.add(depthwise)\n",
    "\n",
    "    #right side of SSE: pointwise to depthwise\n",
    "    right = Sequential()\n",
    "    right.add(pointwise1)\n",
    "    right.add(depthwise)\n",
    "    \n",
    "    SSE = concatenate(axis=1)([left, right])\n",
    "    return SSE"
   ]
  },
  {
   "cell_type": "markdown",
   "metadata": {},
   "source": [
    "# Slim Module"
   ]
  },
  {
   "cell_type": "code",
   "execution_count": 5,
   "metadata": {},
   "outputs": [],
   "source": [
    "\n",
    "def SlimModule(squeeze, expand, dws):\n",
    "    step1 = SSE_Block(squeeze, expand)(i)\n",
    "    \n",
    "    step2 = Add()([step1, i])\n",
    "    \n",
    "    step3 = SSE_Block(squeeze, expand)(step2)\n",
    "    \n",
    "    pool = MaxPool2D(pool_size=(3, 3), strides=(2, 2))(step3)"
   ]
  },
  {
   "cell_type": "markdown",
   "metadata": {},
   "source": [
    "# SlimNet - CNN"
   ]
  },
  {
   "cell_type": "code",
   "execution_count": 6,
   "metadata": {},
   "outputs": [
    {
     "ename": "TypeError",
     "evalue": "concatenate() missing 1 required positional argument: 'inputs'",
     "output_type": "error",
     "traceback": [
      "\u001b[0;31m---------------------------------------------------------------------------\u001b[0m",
      "\u001b[0;31mTypeError\u001b[0m                                 Traceback (most recent call last)",
      "\u001b[0;32m<ipython-input-6-eea979528e0c>\u001b[0m in \u001b[0;36m<module>\u001b[0;34m\u001b[0m\n\u001b[1;32m     14\u001b[0m     \u001b[0mexpand\u001b[0m \u001b[0;34m=\u001b[0m \u001b[0;36m64\u001b[0m \u001b[0;34m*\u001b[0m \u001b[0mn\u001b[0m\u001b[0;34m\u001b[0m\u001b[0m\n\u001b[1;32m     15\u001b[0m     \u001b[0mdws\u001b[0m \u001b[0;34m=\u001b[0m \u001b[0;36m48\u001b[0m \u001b[0;34m*\u001b[0m \u001b[0mn\u001b[0m\u001b[0;34m\u001b[0m\u001b[0m\n\u001b[0;32m---> 16\u001b[0;31m     \u001b[0mSlimNetModel\u001b[0m\u001b[0;34m.\u001b[0m\u001b[0madd\u001b[0m\u001b[0;34m(\u001b[0m\u001b[0mSlimModule\u001b[0m\u001b[0;34m(\u001b[0m\u001b[0msqueeze\u001b[0m\u001b[0;34m,\u001b[0m \u001b[0mexpand\u001b[0m\u001b[0;34m,\u001b[0m \u001b[0mdws\u001b[0m\u001b[0;34m)\u001b[0m\u001b[0;34m)\u001b[0m\u001b[0;34m\u001b[0m\u001b[0m\n\u001b[0m",
      "\u001b[0;32m<ipython-input-5-0ce7e42446fb>\u001b[0m in \u001b[0;36mSlimModule\u001b[0;34m(squeeze, expand, dws)\u001b[0m\n\u001b[1;32m      1\u001b[0m \u001b[0;34m\u001b[0m\u001b[0m\n\u001b[1;32m      2\u001b[0m \u001b[0;32mdef\u001b[0m \u001b[0mSlimModule\u001b[0m\u001b[0;34m(\u001b[0m\u001b[0msqueeze\u001b[0m\u001b[0;34m,\u001b[0m \u001b[0mexpand\u001b[0m\u001b[0;34m,\u001b[0m \u001b[0mdws\u001b[0m\u001b[0;34m)\u001b[0m\u001b[0;34m:\u001b[0m\u001b[0;34m\u001b[0m\u001b[0m\n\u001b[0;32m----> 3\u001b[0;31m     \u001b[0mstep1\u001b[0m \u001b[0;34m=\u001b[0m \u001b[0mSSE_Block\u001b[0m\u001b[0;34m(\u001b[0m\u001b[0msqueeze\u001b[0m\u001b[0;34m,\u001b[0m \u001b[0mexpand\u001b[0m\u001b[0;34m)\u001b[0m\u001b[0;34m(\u001b[0m\u001b[0mi\u001b[0m\u001b[0;34m)\u001b[0m\u001b[0;34m\u001b[0m\u001b[0m\n\u001b[0m\u001b[1;32m      4\u001b[0m \u001b[0;34m\u001b[0m\u001b[0m\n\u001b[1;32m      5\u001b[0m     \u001b[0mstep2\u001b[0m \u001b[0;34m=\u001b[0m \u001b[0mAdd\u001b[0m\u001b[0;34m(\u001b[0m\u001b[0;34m)\u001b[0m\u001b[0;34m(\u001b[0m\u001b[0;34m[\u001b[0m\u001b[0mstep1\u001b[0m\u001b[0;34m,\u001b[0m \u001b[0mi\u001b[0m\u001b[0;34m]\u001b[0m\u001b[0;34m)\u001b[0m\u001b[0;34m\u001b[0m\u001b[0m\n",
      "\u001b[0;32m<ipython-input-4-a9e00fc86fde>\u001b[0m in \u001b[0;36mSSE_Block\u001b[0;34m(squeeze, expand)\u001b[0m\n\u001b[1;32m     17\u001b[0m     \u001b[0mright\u001b[0m\u001b[0;34m.\u001b[0m\u001b[0madd\u001b[0m\u001b[0;34m(\u001b[0m\u001b[0mdepthwise\u001b[0m\u001b[0;34m)\u001b[0m\u001b[0;34m\u001b[0m\u001b[0m\n\u001b[1;32m     18\u001b[0m \u001b[0;34m\u001b[0m\u001b[0m\n\u001b[0;32m---> 19\u001b[0;31m     \u001b[0mSSE\u001b[0m \u001b[0;34m=\u001b[0m \u001b[0mconcatenate\u001b[0m\u001b[0;34m(\u001b[0m\u001b[0maxis\u001b[0m\u001b[0;34m=\u001b[0m\u001b[0;36m1\u001b[0m\u001b[0;34m)\u001b[0m\u001b[0;34m(\u001b[0m\u001b[0;34m[\u001b[0m\u001b[0mleft\u001b[0m\u001b[0;34m,\u001b[0m \u001b[0mright\u001b[0m\u001b[0;34m]\u001b[0m\u001b[0;34m)\u001b[0m\u001b[0;34m\u001b[0m\u001b[0m\n\u001b[0m\u001b[1;32m     20\u001b[0m     \u001b[0;32mreturn\u001b[0m \u001b[0mSSE\u001b[0m\u001b[0;34m\u001b[0m\u001b[0m\n",
      "\u001b[0;31mTypeError\u001b[0m: concatenate() missing 1 required positional argument: 'inputs'"
     ]
    }
   ],
   "source": [
    "inputShape = (178, 218, 3)\n",
    "\n",
    "SlimNetModel = Sequential()\n",
    "\n",
    "SlimNetModel.add(Conv2D(96, kernel_size=(7,7),\n",
    "                       strides=(2,2),\n",
    "                       input_shape=inputShape))\n",
    "SlimNetModel.add(MaxPool2D(pool_size=(3, 3),\n",
    "                             strides=(2, 2)))\n",
    "\n",
    "vector = [1,2,3,4]\n",
    "for n in vector:\n",
    "    squeeze = 16 * n\n",
    "    expand = 64 * n\n",
    "    dws = 48 * n\n",
    "    SlimNetModel.add(SlimModule(squeeze, expand, dws))"
   ]
  },
  {
   "cell_type": "code",
   "execution_count": null,
   "metadata": {},
   "outputs": [],
   "source": []
  },
  {
   "cell_type": "code",
   "execution_count": null,
   "metadata": {},
   "outputs": [],
   "source": []
  }
 ],
 "metadata": {
  "kernelspec": {
   "display_name": "Python 3",
   "language": "python",
   "name": "python3"
  },
  "language_info": {
   "codemirror_mode": {
    "name": "ipython",
    "version": 3
   },
   "file_extension": ".py",
   "mimetype": "text/x-python",
   "name": "python",
   "nbconvert_exporter": "python",
   "pygments_lexer": "ipython3",
   "version": "3.6.6"
  }
 },
 "nbformat": 4,
 "nbformat_minor": 2
}
